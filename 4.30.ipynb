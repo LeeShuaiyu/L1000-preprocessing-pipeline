{
 "cells": [
  {
   "cell_type": "code",
   "execution_count": 1,
   "metadata": {},
   "outputs": [
    {
     "name": "stdout",
     "output_type": "stream",
     "text": [
      "✔️ 路径与参数已配置\n"
     ]
    }
   ],
   "source": [
    "# =========================\n",
    "# 0. 环境与路径配置\n",
    "# =========================\n",
    "from pathlib import Path\n",
    "\n",
    "# ——★ 根据自己文件实际位置修改 ★——\n",
    "DATA_DIR  = Path('.')                       # 元数据所在目录\n",
    "GCTX_FILE = DATA_DIR / 'level5_beta_trt_cp_n720216x12328.gctx'\n",
    "INSTINFO  = DATA_DIR / 'instinfo_beta.txt'\n",
    "COMPOUND  = DATA_DIR / 'compoundinfo_beta.txt'\n",
    "GENEINFO  = DATA_DIR / 'geneinfo_beta.txt'\n",
    "\n",
    "# ——★ 16 GB 机器推荐参数 ★——\n",
    "CHUNK_SIZE  = 2_000        # 每批读取列数\n",
    "DTYPE_EXPR  = 'float32'    # 累加矩阵精度\n",
    "DTYPE_COUNT = 'uint16'     # 计数矩阵精度\n",
    "MIN_REPLICA = 1            # ≥1 次重复才保留\n",
    "\n",
    "print(\"✔️ 路径与参数已配置\")"
   ]
  },
  {
   "cell_type": "code",
   "execution_count": 2,
   "metadata": {},
   "outputs": [
    {
     "name": "stdout",
     "output_type": "stream",
     "text": [
      "pandas 版本: 1.3.5\n"
     ]
    }
   ],
   "source": [
    "# =========================\n",
    "# 1. 导入依赖\n",
    "# =========================\n",
    "import pandas as pd, numpy as np, re, gc, time, math\n",
    "from tqdm import tqdm               # 进度条\n",
    "from cmapPy.pandasGEXpress import parse\n",
    "\n",
    "print(\"pandas 版本:\", pd.__version__)"
   ]
  },
  {
   "cell_type": "code",
   "execution_count": 5,
   "metadata": {},
   "outputs": [
    {
     "name": "stdout",
     "output_type": "stream",
     "text": [
      "▶ 读取 instinfo …\n",
      "plate:well 键数 = 3,920,132\n",
      "trt_cp pert_id 数 = 34419\n",
      "含 SMILES 的化合物 = 28634\n"
     ]
    }
   ],
   "source": [
    "# =========================\n",
    "# 2. plate:well → pert_id   /  pid → SMILES   /  trt_cp 集合   (兼容 Py<3.10)\n",
    "# =========================\n",
    "from typing import Union        # <—— 新增\n",
    "\n",
    "def clean_plate(p: Union[str, float]) -> Union[str, None]:\n",
    "    \"\"\"\n",
    "    仅保留板主名   AICHI001_BJAB_24H\n",
    "    ----------------------------------------------------------\n",
    "    去掉尾部批次标记（可选）：\n",
    "      · _X1/_X2…            重复编号\n",
    "      · _F1B10/_F3B7…       子板块\n",
    "      · _DUO52HI53LO…       双孔标签\n",
    "    \"\"\"\n",
    "    if not isinstance(p, str):\n",
    "        return None\n",
    "    return re.sub(r'(_X\\d+)?(_F\\d+B\\d+)?(_DUO.*)?$', '', p)\n",
    "\n",
    "print(\"▶ 读取 instinfo …\")\n",
    "use_cols = ['det_plate', 'det_well', 'rna_plate', 'rna_well',\n",
    "            'sample_id', 'pert_id', 'pert_type']\n",
    "inst = pd.read_csv(INSTINFO, sep='\\t', usecols=use_cols)\n",
    "\n",
    "# ---------- plate:well → pert_id ----------\n",
    "pairs = []\n",
    "for pc, wc in (('det_plate', 'det_well'),\n",
    "               ('rna_plate', 'rna_well')):\n",
    "    tmp = inst[[pc, wc, 'pert_id']].dropna()\n",
    "    tmp.columns = ['plate', 'well', 'pid']\n",
    "    pairs += tmp.itertuples(index=False)\n",
    "\n",
    "sid = inst[['sample_id', 'pert_id']].dropna()\n",
    "pairs += zip(sid.sample_id.str.split(':').str[0],\n",
    "             sid.sample_id.str.split(':').str[1],\n",
    "             sid.pert_id)\n",
    "\n",
    "plate2pid = {}\n",
    "for plate, well, pid in pairs:\n",
    "    key = f\"{clean_plate(plate)}:{well}\"\n",
    "    if key not in plate2pid:\n",
    "        plate2pid[key] = pid\n",
    "print(f\"plate:well 键数 = {len(plate2pid):,}\")\n",
    "\n",
    "# ---------- trt_cp 集合 ----------\n",
    "trt_cp_set = set(inst.loc[inst.pert_type == 'trt_cp', 'pert_id'])\n",
    "print(\"trt_cp pert_id 数 =\", len(trt_cp_set))\n",
    "\n",
    "# ---------- pid → SMILES ----------\n",
    "pid2smi = (pd.read_csv(COMPOUND, sep='\\t',\n",
    "                       usecols=['pert_id', 'canonical_smiles'])\n",
    "             .set_index('pert_id')['canonical_smiles']\n",
    "             .dropna()\n",
    "             .to_dict())\n",
    "print(\"含 SMILES 的化合物 =\", len(pid2smi))\n"
   ]
  },
  {
   "cell_type": "code",
   "execution_count": 6,
   "metadata": {},
   "outputs": [
    {
     "name": "stdout",
     "output_type": "stream",
     "text": [
      "基因总数 12328，其中 landmark = 978\n"
     ]
    }
   ],
   "source": [
    "# =========================\n",
    "# 3. 读取 geneinfo\n",
    "# =========================\n",
    "genes = pd.read_csv(GENEINFO, sep='\\t')\n",
    "n_gene = len(genes)\n",
    "landmark_mask = genes['feature_space'] == 'landmark'\n",
    "print(f\"基因总数 {n_gene}，其中 landmark = {landmark_mask.sum()}\")"
   ]
  },
  {
   "cell_type": "code",
   "execution_count": 7,
   "metadata": {},
   "outputs": [
    {
     "name": "stdout",
     "output_type": "stream",
     "text": [
      "▶ 读取 GCTX 列元数据 (col_meta_only=True)…\n",
      "列总数 = 720216\n"
     ]
    },
    {
     "name": "stderr",
     "output_type": "stream",
     "text": [
      "scan: 100%|██████████| 720216/720216 [00:01<00:00, 455825.78cid/s]"
     ]
    },
    {
     "name": "stdout",
     "output_type": "stream",
     "text": [
      "可用 SMILES 数           = 10,670\n",
      "可用列 (trt_cp + SMILES) = 465,354\n",
      "未用列                    = 254,862\n"
     ]
    },
    {
     "name": "stderr",
     "output_type": "stream",
     "text": [
      "\n"
     ]
    }
   ],
   "source": [
    "# =========================\n",
    "# 4. Pass-1  扫描 cid → SMILES\n",
    "# =========================\n",
    "print(\"▶ 读取 GCTX 列元数据 (col_meta_only=True)…\")\n",
    "meta = parse.parse(str(GCTX_FILE), col_meta_only=True)\n",
    "cid_all = (meta.index.tolist()\n",
    "           if isinstance(meta, pd.DataFrame)\n",
    "           else meta.col_metadata_df.index.tolist())\n",
    "print(\"列总数 =\", len(cid_all))\n",
    "\n",
    "cid2sidx = {}           # cid → SMILES 索引\n",
    "smiles2idx, smiles_list = {}, []\n",
    "unmatched = 0\n",
    "\n",
    "for cid in tqdm(cid_all, desc=\"scan\", unit=\"cid\"):\n",
    "    parts = cid.split(':')\n",
    "    if len(parts) - 1 >= 2:        # 2/3-colon\n",
    "        pid = parts[1]\n",
    "    elif len(parts) - 1 == 1:      # 1-colon\n",
    "        pid = plate2pid.get(cid)\n",
    "    else:\n",
    "        pid = None\n",
    "\n",
    "    if pid and pid in trt_cp_set and pid in pid2smi:\n",
    "        smi = pid2smi[pid]\n",
    "        if smi not in smiles2idx:\n",
    "            smiles2idx[smi] = len(smiles_list)\n",
    "            smiles_list.append(smi)\n",
    "        cid2sidx[cid] = smiles2idx[smi]\n",
    "    else:\n",
    "        unmatched += 1\n",
    "\n",
    "print(f\"可用 SMILES 数           = {len(smiles_list):,}\")\n",
    "print(f\"可用列 (trt_cp + SMILES) = {len(cid2sidx):,}\")\n",
    "print(f\"未用列                    = {unmatched:,}\")"
   ]
  },
  {
   "cell_type": "code",
   "execution_count": 8,
   "metadata": {},
   "outputs": [
    {
     "name": "stdout",
     "output_type": "stream",
     "text": [
      "memmap 创建成功  | genes × SMILES = (12328, 10670)\n"
     ]
    }
   ],
   "source": [
    "# =========================\n",
    "# 5. 初始化 memmap 缓冲\n",
    "# =========================\n",
    "n_smiles = len(smiles_list)\n",
    "expr_sum = np.memmap('expr_sum.dat', dtype=DTYPE_EXPR, mode='w+',\n",
    "                     shape=(n_gene, n_smiles))\n",
    "expr_cnt = np.memmap('expr_cnt.dat', dtype=DTYPE_COUNT, mode='w+',\n",
    "                     shape=(n_gene, n_smiles))\n",
    "print(f\"memmap 创建成功  | genes × SMILES = {expr_sum.shape}\")"
   ]
  },
  {
   "cell_type": "code",
   "execution_count": 9,
   "metadata": {},
   "outputs": [
    {
     "name": "stderr",
     "output_type": "stream",
     "text": [
      "accumulate: 100%|██████████| 233/233 [08:18<00:00,  2.14s/chunk]"
     ]
    },
    {
     "name": "stdout",
     "output_type": "stream",
     "text": [
      "累加完成，耗时 8.3 分钟\n"
     ]
    },
    {
     "name": "stderr",
     "output_type": "stream",
     "text": [
      "\n"
     ]
    }
   ],
   "source": [
    "# =========================\n",
    "# 6. Pass-2  分块读取表达矩阵并累加\n",
    "# =========================\n",
    "def cid_chunks(seq, size):\n",
    "    \"\"\"简单的 list 分块生成器\"\"\"\n",
    "    for i in range(0, len(seq), size):\n",
    "        yield seq[i:i + size]\n",
    "\n",
    "start = time.time()\n",
    "for chunk in tqdm(list(cid_chunks(list(cid2sidx.keys()), CHUNK_SIZE)),\n",
    "                  desc=\"accumulate\", unit=\"chunk\"):\n",
    "    gct = parse.parse(str(GCTX_FILE), cid=chunk)\n",
    "    block = gct.data_df.values.astype(DTYPE_EXPR)    # (genes × chunk)\n",
    "    idxs  = [cid2sidx[c] for c in chunk]\n",
    "\n",
    "    for j, s_idx in enumerate(idxs):\n",
    "        expr_sum[:, s_idx] += block[:, j]\n",
    "        expr_cnt[:, s_idx] += 1\n",
    "\n",
    "    del gct, block\n",
    "    gc.collect()\n",
    "\n",
    "print(\"累加完成，耗时 %.1f 分钟\" % ((time.time() - start) / 60))"
   ]
  },
  {
   "cell_type": "code",
   "execution_count": 10,
   "metadata": {},
   "outputs": [
    {
     "name": "stderr",
     "output_type": "stream",
     "text": [
      "accumulate: 100%|██████████| 233/233 [08:01<00:00,  2.07s/chunk]"
     ]
    },
    {
     "name": "stdout",
     "output_type": "stream",
     "text": [
      "累加完成，耗时 8.0 分钟\n"
     ]
    },
    {
     "name": "stderr",
     "output_type": "stream",
     "text": [
      "\n"
     ]
    }
   ],
   "source": [
    "# =========================\n",
    "# 6. Pass-2  分块读取表达矩阵并累加\n",
    "# =========================\n",
    "def cid_chunks(seq, size):\n",
    "    \"\"\"简单的 list 分块生成器\"\"\"\n",
    "    for i in range(0, len(seq), size):\n",
    "        yield seq[i:i + size]\n",
    "\n",
    "start = time.time()\n",
    "for chunk in tqdm(list(cid_chunks(list(cid2sidx.keys()), CHUNK_SIZE)),\n",
    "                  desc=\"accumulate\", unit=\"chunk\"):\n",
    "    gct = parse.parse(str(GCTX_FILE), cid=chunk)\n",
    "    block = gct.data_df.values.astype(DTYPE_EXPR)    # (genes × chunk)\n",
    "    idxs  = [cid2sidx[c] for c in chunk]\n",
    "\n",
    "    for j, s_idx in enumerate(idxs):\n",
    "        expr_sum[:, s_idx] += block[:, j]\n",
    "        expr_cnt[:, s_idx] += 1\n",
    "\n",
    "    del gct, block\n",
    "    gc.collect()\n",
    "\n",
    "print(\"累加完成，耗时 %.1f 分钟\" % ((time.time() - start) / 60))"
   ]
  },
  {
   "cell_type": "code",
   "execution_count": 11,
   "metadata": {},
   "outputs": [
    {
     "name": "stdout",
     "output_type": "stream",
     "text": [
      "满足重复 ≥1 的 SMILES = 10670\n"
     ]
    }
   ],
   "source": [
    "# =========================\n",
    "# 7. 计算均值并过滤\n",
    "# =========================\n",
    "valid = expr_cnt >= MIN_REPLICA\n",
    "keep_mask = valid.any(axis=0)          # 至少有一个基因满足\n",
    "print(\"满足重复 ≥1 的 SMILES =\", keep_mask.sum())\n",
    "\n",
    "expr_mean = np.divide(expr_sum[:, keep_mask],\n",
    "                      expr_cnt[:, keep_mask],\n",
    "                      where=expr_cnt[:, keep_mask] != 0,\n",
    "                      out=np.full_like(expr_sum[:, keep_mask], np.nan))\n",
    "final_smiles = [s for s, flag in zip(smiles_list, keep_mask) if flag]"
   ]
  },
  {
   "cell_type": "code",
   "execution_count": 12,
   "metadata": {},
   "outputs": [
    {
     "name": "stdout",
     "output_type": "stream",
     "text": [
      "▶ 写出 expr_by_smiles_12328.csv\n",
      "✅ 12328 文件完成\n"
     ]
    }
   ],
   "source": [
    "# =========================\n",
    "# 8. 导出 12328 基因 × SMILES\n",
    "# =========================\n",
    "out12328 = 'expr_by_smiles_12328.csv'\n",
    "print(\"▶ 写出\", out12328)\n",
    "with open(out12328, 'w', newline='') as f:\n",
    "    header = ['gene_id', 'gene_symbol', 'feature_space', *final_smiles]\n",
    "    f.write(','.join(header) + '\\n')\n",
    "    for i, row in enumerate(expr_mean):\n",
    "        rec = [str(genes.at[i, 'gene_id']),\n",
    "               genes.at[i, 'gene_symbol'],\n",
    "               genes.at[i, 'feature_space'],\n",
    "               *[f\"{x:.4f}\" if not math.isnan(x) else '' for x in row]]\n",
    "        f.write(','.join(rec) + '\\n')\n",
    "print(\"✅ 12328 文件完成\")"
   ]
  },
  {
   "cell_type": "code",
   "execution_count": 13,
   "metadata": {},
   "outputs": [
    {
     "name": "stdout",
     "output_type": "stream",
     "text": [
      "▶ 写出 expr_by_smiles_978.csv\n",
      "✅ 978 文件完成\n"
     ]
    }
   ],
   "source": [
    "# =========================\n",
    "# 9. 导出 978 Landmark 基因 × SMILES\n",
    "# =========================\n",
    "out978 = 'expr_by_smiles_978.csv'\n",
    "print(\"▶ 写出\", out978)\n",
    "with open(out978, 'w', newline='') as f:\n",
    "    header = ['gene_id', 'gene_symbol', 'feature_space', *final_smiles]\n",
    "    f.write(','.join(header) + '\\n')\n",
    "    for i, row in zip(np.where(landmark_mask)[0], expr_mean[landmark_mask]):\n",
    "        rec = [str(genes.at[i, 'gene_id']),\n",
    "               genes.at[i, 'gene_symbol'],\n",
    "               genes.at[i, 'feature_space'],\n",
    "               *[f\"{x:.4f}\" if not math.isnan(x) else '' for x in row]]\n",
    "        f.write(','.join(rec) + '\\n')\n",
    "print(\"✅ 978 文件完成\")"
   ]
  },
  {
   "cell_type": "code",
   "execution_count": null,
   "metadata": {},
   "outputs": [],
   "source": []
  }
 ],
 "metadata": {
  "kernelspec": {
   "display_name": "L1000",
   "language": "python",
   "name": "python3"
  },
  "language_info": {
   "codemirror_mode": {
    "name": "ipython",
    "version": 3
   },
   "file_extension": ".py",
   "mimetype": "text/x-python",
   "name": "python",
   "nbconvert_exporter": "python",
   "pygments_lexer": "ipython3",
   "version": "3.7.16"
  }
 },
 "nbformat": 4,
 "nbformat_minor": 2
}
